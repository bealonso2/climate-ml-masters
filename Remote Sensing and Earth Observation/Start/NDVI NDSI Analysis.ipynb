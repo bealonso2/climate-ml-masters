{
 "cells": [
  {
   "cell_type": "markdown",
   "metadata": {},
   "source": [
    "# Understanding NDVI and NDSI\n",
    "\n",
    "Welcome to the first project in the Remote Sensing and Earth Observation chapter of the course. In this project, we will learn about two important indices used in remote sensing: NDVI and NDSI.\n",
    "\n",
    "## Introduction\n",
    "\n",
    "Remote sensing is the science of obtaining information about objects or areas from a distance, typically from aircraft or satellites. The data collected by remote sensing instruments can be used to monitor and analyze changes in the environment, such as land use, vegetation cover, and climate patterns.\n",
    "\n",
    "One of the key applications of remote sensing is the measurement of vegetation health and snow cover. Two commonly used indices for this purpose are the Normalized Difference Vegetation Index (NDVI) and the Normalized Difference Snow Index (NDSI). Other indices like NDWI (Normalized Difference Water Index) are also used for similar purposes.\n",
    "\n",
    "These indices are calculated using the reflectance values of different bands of the electromagnetic spectrum. In this project, we will learn how to calculate NDVI and NDSI using satellite imagery data and visualize the results.\n",
    "\n",
    "## Learning Objectives\n",
    "\n",
    "In this project, you will learn:\n",
    "\n",
    "- What NDVI and NDSI are and how they are calculated.\n",
    "- How to calculate NDVI and NDSI using satellite imagery data.\n",
    "- How to obtain satellite imagery data using Google Earth Engine.\n",
    "- How to visualize the results of NDVI and NDSI calculations.\n",
    "\n",
    "To meet these learning objectives, we will be looking at a region of interest (ROI) in the Himalayan region and calculate the NDVI and NDSI values for this area using Landsat 8 satellite imagery data.\n",
    "\n",
    "### Himalayan Food Security\n",
    "\n",
    "The Himalayan region is home to a diverse range of ecosystems and is a critical area for food security in South Asia. The region is known for its rich biodiversity, unique landscapes, and important water resources. However, the region is also vulnerable to climate change, with changes in temperature and precipitation patterns affecting agriculture, water availability, and livelihoods.\n",
    "\n",
    "Monitoring vegetation health and snow cover in the Himalayan region is important for understanding the impact of climate change on food security and water resources. NDVI and NDSI are valuable tools for assessing these changes and providing insights into the health of ecosystems in the region.\n",
    "\n",
    "## Let's Get Started!\n",
    "\n",
    "The required libraries will be listed in the next cell for you to install if you don't have them already."
   ]
  },
  {
   "cell_type": "code",
   "execution_count": 8,
   "metadata": {
    "vscode": {
     "languageId": "shellscript"
    }
   },
   "outputs": [
    {
     "data": {
      "text/html": [
       "\n",
       "            <style>\n",
       "                .geemap-dark {\n",
       "                    --jp-widgets-color: white;\n",
       "                    --jp-widgets-label-color: white;\n",
       "                    --jp-ui-font-color1: white;\n",
       "                    --jp-layout-color2: #454545;\n",
       "                    background-color: #383838;\n",
       "                }\n",
       "\n",
       "                .geemap-dark .jupyter-button {\n",
       "                    --jp-layout-color3: #383838;\n",
       "                }\n",
       "\n",
       "                .geemap-colab {\n",
       "                    background-color: var(--colab-primary-surface-color, white);\n",
       "                }\n",
       "\n",
       "                .geemap-colab .jupyter-button {\n",
       "                    --jp-layout-color3: var(--colab-primary-surface-color, white);\n",
       "                }\n",
       "            </style>\n",
       "            "
      ],
      "text/plain": [
       "<IPython.core.display.HTML object>"
      ]
     },
     "metadata": {},
     "output_type": "display_data"
    }
   ],
   "source": [
    "!pip install -q -U earthengine-api geemap"
   ]
  },
  {
   "cell_type": "markdown",
   "metadata": {},
   "source": [
    "## Google Earth Engine\n",
    "\n",
    "Google Earth Engine is a cloud-based platform for planetary-scale environmental data analysis. It provides a wide range of datasets, tools, and APIs for analyzing and visualizing geospatial data. In this project, we will use Google Earth Engine to access Landsat 8 satellite imagery data and calculate NDVI and NDSI values for a region of interest in the Himalayan region.\n",
    "\n",
    "To use Google Earth Engine, you will need to create an account and set up the necessary credentials. You can sign up for a free account at [Google Earth Engine](https://earthengine.google.com/).\n",
    "\n",
    "Google Earth Engine can produce petabytes of data, so we will use a small region of interest (ROI) in the Himalayan region to demonstrate the calculation of NDVI and NDSI values. The ROI will be defined by a bounding box with specific coordinates for you.\n",
    "\n",
    "Let's start by importing Google Earth Engine and authenticating."
   ]
  },
  {
   "cell_type": "code",
   "execution_count": 9,
   "metadata": {},
   "outputs": [
    {
     "data": {
      "text/html": [
       "\n",
       "            <style>\n",
       "                .geemap-dark {\n",
       "                    --jp-widgets-color: white;\n",
       "                    --jp-widgets-label-color: white;\n",
       "                    --jp-ui-font-color1: white;\n",
       "                    --jp-layout-color2: #454545;\n",
       "                    background-color: #383838;\n",
       "                }\n",
       "\n",
       "                .geemap-dark .jupyter-button {\n",
       "                    --jp-layout-color3: #383838;\n",
       "                }\n",
       "\n",
       "                .geemap-colab {\n",
       "                    background-color: var(--colab-primary-surface-color, white);\n",
       "                }\n",
       "\n",
       "                .geemap-colab .jupyter-button {\n",
       "                    --jp-layout-color3: var(--colab-primary-surface-color, white);\n",
       "                }\n",
       "            </style>\n",
       "            "
      ],
      "text/plain": [
       "<IPython.core.display.HTML object>"
      ]
     },
     "metadata": {},
     "output_type": "display_data"
    },
    {
     "data": {
      "text/plain": [
       "True"
      ]
     },
     "execution_count": 9,
     "metadata": {},
     "output_type": "execute_result"
    }
   ],
   "source": [
    "import ee\n",
    "\n",
    "# Trigger the authentication flow.\n",
    "ee.Authenticate()"
   ]
  },
  {
   "cell_type": "code",
   "execution_count": 10,
   "metadata": {},
   "outputs": [
    {
     "data": {
      "text/html": [
       "\n",
       "            <style>\n",
       "                .geemap-dark {\n",
       "                    --jp-widgets-color: white;\n",
       "                    --jp-widgets-label-color: white;\n",
       "                    --jp-ui-font-color1: white;\n",
       "                    --jp-layout-color2: #454545;\n",
       "                    background-color: #383838;\n",
       "                }\n",
       "\n",
       "                .geemap-dark .jupyter-button {\n",
       "                    --jp-layout-color3: #383838;\n",
       "                }\n",
       "\n",
       "                .geemap-colab {\n",
       "                    background-color: var(--colab-primary-surface-color, white);\n",
       "                }\n",
       "\n",
       "                .geemap-colab .jupyter-button {\n",
       "                    --jp-layout-color3: var(--colab-primary-surface-color, white);\n",
       "                }\n",
       "            </style>\n",
       "            "
      ],
      "text/plain": [
       "<IPython.core.display.HTML object>"
      ]
     },
     "metadata": {},
     "output_type": "display_data"
    }
   ],
   "source": [
    "# Initialize the Earth Engine module.\n",
    "ee.Initialize()"
   ]
  },
  {
   "cell_type": "markdown",
   "metadata": {},
   "source": [
    "## Initialize Region of Interest and Time Period\n",
    "\n",
    "Now that we have Google Earth Engine set up, let's define some initial parameters for our analysis. We will define the region of interest (ROI) using a bounding box with specific coordinates for the Himalayan region and define the time period for which we want to analyze the satellite imagery data—Landsat 8 data for winter 2021 and 2022.\n",
    "\n",
    "We have a choice of tools here to visualize the data. We will use `geemap` in this project as it is full of Google Earth Engine functionalities and is easy to use."
   ]
  },
  {
   "cell_type": "code",
   "execution_count": 11,
   "metadata": {},
   "outputs": [
    {
     "data": {
      "text/html": [
       "\n",
       "            <style>\n",
       "                .geemap-dark {\n",
       "                    --jp-widgets-color: white;\n",
       "                    --jp-widgets-label-color: white;\n",
       "                    --jp-ui-font-color1: white;\n",
       "                    --jp-layout-color2: #454545;\n",
       "                    background-color: #383838;\n",
       "                }\n",
       "\n",
       "                .geemap-dark .jupyter-button {\n",
       "                    --jp-layout-color3: #383838;\n",
       "                }\n",
       "\n",
       "                .geemap-colab {\n",
       "                    background-color: var(--colab-primary-surface-color, white);\n",
       "                }\n",
       "\n",
       "                .geemap-colab .jupyter-button {\n",
       "                    --jp-layout-color3: var(--colab-primary-surface-color, white);\n",
       "                }\n",
       "            </style>\n",
       "            "
      ],
      "text/plain": [
       "<IPython.core.display.HTML object>"
      ]
     },
     "metadata": {},
     "output_type": "display_data"
    }
   ],
   "source": [
    "import geemap\n",
    "\n",
    "# Define a small bounding box for the Pokhara Valley in the Himalayan region\n",
    "roi = ee.Geometry.Rectangle([83.87, 28.3, 84.02, 28.4])\n",
    "\n",
    "# Define time periods for winter for different years\n",
    "winter_2021 = ee.DateRange(\"2021-12-01\", \"2022-02-28\")\n",
    "winter_2022 = ee.DateRange(\"2022-12-01\", \"2023-02-28\")"
   ]
  },
  {
   "cell_type": "markdown",
   "metadata": {},
   "source": [
    "## Retrieve and Scale Landsat 8 Data\n",
    "\n",
    "In the next cell, we will retrieve Landsat 8 data for the defined region of interest and time period. We will then scale the data to the appropriate reflectance values before calculating the NDVI and NDSI values and visualizing the RGB image.\n",
    "\n",
    "We will use Landsat 8 collection 2, tier 1, level 2 data for this analysis filtered by the region of interest, time period, and cloud cover percentage less than 10%.\n",
    "\n",
    "### Note\n",
    "\n",
    "Cloud cover is an important factor to consider when analyzing optical satellite imagery data. There are techniques to mask out clouds and cloud shadows from the images to ensure accurate calculations of vegetation indices like NDVI and NDSI, but for this project, we will filter the data based on cloud cover percentage.\n",
    "\n",
    "Additionally, other remote sensors employ LIDAR and RADAR to \"see\" through clouds. LIDAR uses light to measure distances so it is effective in conditions where clouds are not so dense. RADAR uses radio waves to detect objects and is also effective in cloudy conditions.\n",
    "\n",
    "### Instructions\n",
    "\n",
    "In the next cell:\n",
    "- Retrieve Landsat 8 data for the defined region of interest, time period, and cloud cover percentage less than 10%.\n",
    "- Scale the data to the appropriate reflectance values ([see the developer guide](https://developers.google.com/earth-engine/datasets/catalog/LANDSAT_LC08_C02_T1_L2#bands))."
   ]
  },
  {
   "cell_type": "code",
   "execution_count": 12,
   "metadata": {},
   "outputs": [
    {
     "data": {
      "text/html": [
       "\n",
       "            <style>\n",
       "                .geemap-dark {\n",
       "                    --jp-widgets-color: white;\n",
       "                    --jp-widgets-label-color: white;\n",
       "                    --jp-ui-font-color1: white;\n",
       "                    --jp-layout-color2: #454545;\n",
       "                    background-color: #383838;\n",
       "                }\n",
       "\n",
       "                .geemap-dark .jupyter-button {\n",
       "                    --jp-layout-color3: #383838;\n",
       "                }\n",
       "\n",
       "                .geemap-colab {\n",
       "                    background-color: var(--colab-primary-surface-color, white);\n",
       "                }\n",
       "\n",
       "                .geemap-colab .jupyter-button {\n",
       "                    --jp-layout-color3: var(--colab-primary-surface-color, white);\n",
       "                }\n",
       "            </style>\n",
       "            "
      ],
      "text/plain": [
       "<IPython.core.display.HTML object>"
      ]
     },
     "metadata": {},
     "output_type": "display_data"
    }
   ],
   "source": [
    "# Function to get composite image for a given date range\n",
    "def get_median_image(date_range: ee.daterange.DateRange) -> ee.Image:\n",
    "    # Load the Landsat 8 image collection\n",
    "    image_collection = (\n",
    "        ee.ImageCollection(\"LANDSAT/LC08/C02/T1_L2\")\n",
    "        # TODO: Filter by the region of interest\n",
    "        # TODO: Filter by the date range\n",
    "        # TODO: Filter by cloud cover\n",
    "    )\n",
    "\n",
    "    # Return the median image\n",
    "    return image_collection.median().clip(roi)\n",
    "\n",
    "\n",
    "# Get composite images for each time period\n",
    "winter_2021_image = get_median_image(winter_2021)\n",
    "winter_2022_image = get_median_image(winter_2022)\n",
    "\n",
    "\n",
    "# Scale the bands (see https://developers.google.com/earth-engine/datasets/catalog/LANDSAT_LC08_C02_T1_L2#bands)\n",
    "def apply_scale_factors(image: ee.Image) -> ee.Image:\n",
    "    optical_bands = image.select(\"SR_B.\")  # TODO: Scale factor for optical bands\n",
    "    thermal_bands = image.select(\"ST_B.*\")  # TODO: Scale factor for thermal bands\n",
    "\n",
    "    # Return the scaled image with the original bands\n",
    "    return image.addBands(optical_bands, None, True).addBands(thermal_bands, None, True)\n",
    "\n",
    "\n",
    "# # Apply the scale factors to the images\n",
    "winter_2021_image = apply_scale_factors(winter_2021_image)\n",
    "winter_2022_image = apply_scale_factors(winter_2022_image)"
   ]
  },
  {
   "cell_type": "markdown",
   "metadata": {},
   "source": [
    "## Calculate NDVI and NDSI\n",
    "\n",
    "Now that we have the Landsat 8 data for the defined region of interest and time period, let's calculate the NDVI and NDSI values using the reflectance values of the appropriate bands.\n",
    "\n",
    "The NDVI and NDSI formulas are as follows:\n",
    "\n",
    "- NDVI = (NIR - RED) / (NIR + RED)\n",
    "- NDSI = (GREEN - SWIR) / (GREEN + SWIR)\n",
    "\n",
    "Where:\n",
    "- NIR = Near-Infrared band\n",
    "- RED = Red band\n",
    "- GREEN = Green band\n",
    "- SWIR = Shortwave Infrared band\n",
    "\n",
    "The required bands for NDVI and NDSI calculations can be found using [the developer guide](https://developers.google.com/earth-engine/datasets/catalog/LANDSAT_LC08_C02_T1_L2#bands).\n",
    "\n",
    "### Instructions\n",
    "\n",
    "In the next cell:\n",
    "- Fill out the formulas to calculate NDVI and NDSI using the reflectance values of the appropriate bands."
   ]
  },
  {
   "cell_type": "code",
   "execution_count": 13,
   "metadata": {},
   "outputs": [
    {
     "data": {
      "text/html": [
       "\n",
       "            <style>\n",
       "                .geemap-dark {\n",
       "                    --jp-widgets-color: white;\n",
       "                    --jp-widgets-label-color: white;\n",
       "                    --jp-ui-font-color1: white;\n",
       "                    --jp-layout-color2: #454545;\n",
       "                    background-color: #383838;\n",
       "                }\n",
       "\n",
       "                .geemap-dark .jupyter-button {\n",
       "                    --jp-layout-color3: #383838;\n",
       "                }\n",
       "\n",
       "                .geemap-colab {\n",
       "                    background-color: var(--colab-primary-surface-color, white);\n",
       "                }\n",
       "\n",
       "                .geemap-colab .jupyter-button {\n",
       "                    --jp-layout-color3: var(--colab-primary-surface-color, white);\n",
       "                }\n",
       "            </style>\n",
       "            "
      ],
      "text/plain": [
       "<IPython.core.display.HTML object>"
      ]
     },
     "metadata": {},
     "output_type": "display_data"
    }
   ],
   "source": [
    "# Function to calculate NDVI\n",
    "def calculate_ndvi(image: ee.Image) -> ee.Image:\n",
    "    ndvi = image  # TODO: Calculate NDVI\n",
    "    return image.addBands(ndvi.rename(\"NDVI\"))\n",
    "\n",
    "\n",
    "# Function to calculate NDSI\n",
    "def calculate_ndsi(image: ee.Image) -> ee.Image:\n",
    "    ndsi = image  # TODO: Calculate NDSI\n",
    "    return image.addBands(ndsi.rename(\"NDSI\"))\n",
    "\n",
    "\n",
    "# Apply the NDVI and NDSI calculations to the images\n",
    "winter_2021_image = calculate_ndsi(calculate_ndvi(winter_2021_image))\n",
    "winter_2022_image = calculate_ndsi(calculate_ndvi(winter_2022_image))"
   ]
  },
  {
   "cell_type": "markdown",
   "metadata": {},
   "source": [
    "## Visualize NDVI and NDSI\n",
    "\n",
    "Now all that's left is to visualize the NDVI and NDSI values for the defined region of interest and time period. \n",
    "\n",
    "Our map will have the following layers:\n",
    "- RGB images of the Landsat 8 for each year.\n",
    "- NDVI values for each year.\n",
    "- NDSI values for each year."
   ]
  },
  {
   "cell_type": "code",
   "execution_count": 14,
   "metadata": {},
   "outputs": [
    {
     "data": {
      "text/html": [
       "\n",
       "            <style>\n",
       "                .geemap-dark {\n",
       "                    --jp-widgets-color: white;\n",
       "                    --jp-widgets-label-color: white;\n",
       "                    --jp-ui-font-color1: white;\n",
       "                    --jp-layout-color2: #454545;\n",
       "                    background-color: #383838;\n",
       "                }\n",
       "\n",
       "                .geemap-dark .jupyter-button {\n",
       "                    --jp-layout-color3: #383838;\n",
       "                }\n",
       "\n",
       "                .geemap-colab {\n",
       "                    background-color: var(--colab-primary-surface-color, white);\n",
       "                }\n",
       "\n",
       "                .geemap-colab .jupyter-button {\n",
       "                    --jp-layout-color3: var(--colab-primary-surface-color, white);\n",
       "                }\n",
       "            </style>\n",
       "            "
      ],
      "text/plain": [
       "<IPython.core.display.HTML object>"
      ]
     },
     "metadata": {},
     "output_type": "display_data"
    },
    {
     "data": {
      "application/vnd.jupyter.widget-view+json": {
       "model_id": "28f96c27b0e247019f41a261e27cfe2f",
       "version_major": 2,
       "version_minor": 0
      },
      "text/plain": [
       "Map(center=[28.350012666040698, 83.94499999999921], controls=(WidgetControl(options=['position', 'transparent_…"
      ]
     },
     "execution_count": 14,
     "metadata": {},
     "output_type": "execute_result"
    }
   ],
   "source": [
    "# Create a map using geemap\n",
    "Map = geemap.Map()\n",
    "Map.centerObject(roi, 12)\n",
    "\n",
    "# Add the Landsat layer to the map\n",
    "vis_params = {\n",
    "    \"bands\": [\"SR_B4\", \"SR_B3\", \"SR_B2\"],  # Red, Green, Blue bands\n",
    "    \"min\": 0.0,\n",
    "    \"max\": 0.3,\n",
    "}\n",
    "\n",
    "# Visualize the NDVI and NDSI bands\n",
    "ndvi_ndsi_vis_params = {\n",
    "    \"min\": -1,\n",
    "    \"max\": 1,\n",
    "    \"palette\": [\"blue\", \"white\", \"green\"],\n",
    "}\n",
    "\n",
    "# TODO: Add the NDVI and NDSI bands to the map\n",
    "Map.addLayer(, ndvi_ndsi_vis_params, \"NDVI 2021\", False)\n",
    "Map.addLayer(, ndvi_ndsi_vis_params, \"NDSI 2021\", False)\n",
    "Map.addLayer(, ndvi_ndsi_vis_params, \"NDVI 2022\", False)\n",
    "Map.addLayer(, ndvi_ndsi_vis_params, \"NDSI 2022\", False)\n",
    "\n",
    "# TODO: Add the RGB composite images to the map\n",
    "Map.addLayer(, vis_params, \"Winter 2021 RGB\", False)\n",
    "Map.addLayer(, vis_params, \"Winter 2022 RGB\")\n",
    "\n",
    "# Display the map\n",
    "Map"
   ]
  },
  {
   "cell_type": "markdown",
   "metadata": {},
   "source": [
    "## Final Thoughts\n",
    "\n",
    "In this project, we learned about two important indices used in remote sensing: NDVI and NDSI. We calculated the NDVI and NDSI values for a region of interest in the Himalayan region using Landsat 8 satellite imagery data and visualized the results.\n",
    "\n",
    "NDVI and NDSI are valuable tools for monitoring vegetation health and snow cover, respectively. They provide insights into the health of ecosystems and can help in assessing the impact of climate change on food security and water resources.\n",
    "\n",
    "In this example, we were able to use NDVI and NDSI to visualize the changes in vegetation and snow cover in the Himalayan region over the winter months of 2021 and 2022."
   ]
  }
 ],
 "metadata": {
  "kernelspec": {
   "display_name": "Python 3",
   "language": "python",
   "name": "python3"
  },
  "language_info": {
   "codemirror_mode": {
    "name": "ipython",
    "version": 3
   },
   "file_extension": ".py",
   "mimetype": "text/x-python",
   "name": "python",
   "nbconvert_exporter": "python",
   "pygments_lexer": "ipython3",
   "version": "3.11.4"
  }
 },
 "nbformat": 4,
 "nbformat_minor": 2
}
