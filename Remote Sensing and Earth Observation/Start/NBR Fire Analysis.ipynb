{
 "cells": [
  {
   "cell_type": "markdown",
   "metadata": {},
   "source": [
    "# Using Sentinel-2 Data to Calculate Burned Area\n",
    "\n",
    "Welcome to the second project in the Earth Observation series. In this project, we will use the Sentinel-2 satellite data to calculate the burned area of Maui from the 2023 fires.\n",
    "\n",
    "## Learning Objectives\n",
    "\n",
    "In this project you will:\n",
    "\n",
    "- Familiarize yourself with Sentinel-2 satellite data.\n",
    "- Learn how to calculate the burned area using the Normalized Burn Ratio (NBR) index.\n",
    "- Apply the NBR index to the Sentinel-2 data to calculate the burned area of Maui from the 2023 fires.\n",
    "\n",
    "## Analysis Approach\n",
    "\n",
    "Sentinel-2 is a European Space Agency (ESA) satellite that provides multispectral data at a high spatial resolution of 10 meters. Sentinel-2 revisits the same location every 5 days, which makes it a great tool for monitoring changes on the Earth's surface.\n",
    "\n",
    "The Normalized Burn Ratio (NBR) is a widely used index to calculate the burned area from satellite data. The NBR index is calculated using the Near-Infrared (NIR) and Shortwave Infrared (SWIR2) bands of the satellite data. The formula to calculate the NBR index is:\n",
    "\n",
    "NBR = (NIR - SWIR2) / (NIR + SWIR2)\n",
    "\n",
    "The NBR index ranges from -1 to 1. To quantify burn severity, we will be using the delta NBR (dNBR) index, which is calculated as the difference between the pre-fire NBR and the post-fire NBR. The formula to calculate the dNBR index is:\n",
    "\n",
    "dNBR = NBR_pre - NBR_post\n",
    "\n",
    "## Let's Get Started!\n",
    "\n",
    "The required libraries will be listed in the next cell for you to install if you don't have them already."
   ]
  },
  {
   "cell_type": "code",
   "execution_count": 73,
   "metadata": {
    "vscode": {
     "languageId": "shellscript"
    }
   },
   "outputs": [
    {
     "data": {
      "text/html": [
       "\n",
       "            <style>\n",
       "                .geemap-dark {\n",
       "                    --jp-widgets-color: white;\n",
       "                    --jp-widgets-label-color: white;\n",
       "                    --jp-ui-font-color1: white;\n",
       "                    --jp-layout-color2: #454545;\n",
       "                    background-color: #383838;\n",
       "                }\n",
       "\n",
       "                .geemap-dark .jupyter-button {\n",
       "                    --jp-layout-color3: #383838;\n",
       "                }\n",
       "\n",
       "                .geemap-colab {\n",
       "                    background-color: var(--colab-primary-surface-color, white);\n",
       "                }\n",
       "\n",
       "                .geemap-colab .jupyter-button {\n",
       "                    --jp-layout-color3: var(--colab-primary-surface-color, white);\n",
       "                }\n",
       "            </style>\n",
       "            "
      ],
      "text/plain": [
       "<IPython.core.display.HTML object>"
      ]
     },
     "metadata": {},
     "output_type": "display_data"
    }
   ],
   "source": [
    "!pip install -q -U earthengine-api geemap"
   ]
  },
  {
   "cell_type": "markdown",
   "metadata": {},
   "source": [
    "The following cell will import and authenticate the Google Earth Engine API."
   ]
  },
  {
   "cell_type": "code",
   "execution_count": 74,
   "metadata": {},
   "outputs": [
    {
     "data": {
      "text/html": [
       "\n",
       "            <style>\n",
       "                .geemap-dark {\n",
       "                    --jp-widgets-color: white;\n",
       "                    --jp-widgets-label-color: white;\n",
       "                    --jp-ui-font-color1: white;\n",
       "                    --jp-layout-color2: #454545;\n",
       "                    background-color: #383838;\n",
       "                }\n",
       "\n",
       "                .geemap-dark .jupyter-button {\n",
       "                    --jp-layout-color3: #383838;\n",
       "                }\n",
       "\n",
       "                .geemap-colab {\n",
       "                    background-color: var(--colab-primary-surface-color, white);\n",
       "                }\n",
       "\n",
       "                .geemap-colab .jupyter-button {\n",
       "                    --jp-layout-color3: var(--colab-primary-surface-color, white);\n",
       "                }\n",
       "            </style>\n",
       "            "
      ],
      "text/plain": [
       "<IPython.core.display.HTML object>"
      ]
     },
     "metadata": {},
     "output_type": "display_data"
    }
   ],
   "source": [
    "import ee\n",
    "\n",
    "# Trigger the authentication flow.\n",
    "ee.Authenticate()\n",
    "\n",
    "# Initialize the library.\n",
    "ee.Initialize()"
   ]
  },
  {
   "cell_type": "markdown",
   "metadata": {},
   "source": [
    "## Retrieve and Process Pre- and Post-Fire Sentinel-2 Data\n",
    "\n",
    "The first step in calculating the burned area is to retrieve the Sentinel-2 data for the pre- and post-fire periods. We will use the Sentinel-2 harmonized surface reflectance data for this analysis which contains additional bands with Scene Classification information.\n",
    "\n",
    "### Bounding Box for Maui\n",
    "\n",
    "We will use the TIGER/2018/Countries dataset to get the bounding box for Maui (county), Hawaii. The bounding box will be used to filter the Sentinel-2 data for Maui.\n",
    "\n",
    "### High-Quality Sentinel-2 Data\n",
    "\n",
    "To generate pre- and post-fire images for Maui, we will want to calculate NBR indices from images without cloud cover. As discussed in the previous project, one option is to use the very rudimentary filter of `CLOUDY_PIXEL_PERCENTAGE` when requesting images from Google Earth Engine. In this case, we will try to create a more sophisticated image from which we can calculate the NBR index by using the `qualityMosaic` function provided by Google Earth Engine.\n",
    "\n",
    "#### Quality Mosaic\n",
    "\n",
    "The `qualityMosaic` function in Google Earth Engine selects pixel values based on the highest quality score from a specified band, creating a composite image that prioritizes data quality.\n",
    "\n",
    "Sentinel-2 data has a cloud score dataset called CLOUD_SCORE_PLUS. For Sentinel-2 harmonized surface reflectance data, the CLOUD_SCORE_PLUS dataset has two band, [which you can read about here](https://developers.google.com/earth-engine/datasets/catalog/GOOGLE_CLOUD_SCORE_PLUS_V1_S2_HARMONIZED). The `cs` band in the CLOUD_SCORE_PLUS dataset will be used in the `qualityMosaic` function to prioritize cloud-free pixels.\n",
    "\n",
    "#### Scene Classification\n",
    "\n",
    "The Sentinel-2 harmonized surface reflectance data also contains a Scene Classification band that provides information about the land cover type of each pixel. We will use this band to filter out pixels that are not vegetation or bare soil when calculating the NBR index.\n",
    "\n",
    "The goal is for the `qualityMosaic` function to return images that are cloud-free and contain only vegetation and bare soil pixels. However, the use of the Scene Classification Layer mask will end up filtering out cloudy pixels leading to holes in the image. We will use the `fill` function to fill in these holes with data from other images.\n",
    "\n",
    "### Instructions\n",
    "\n",
    "1. Retrieve the bounding box for Maui, Hawaii using the TIGER/2018/Countries dataset.\n",
    "2. Implement the function to mask out non-vegetation and non-bare soil pixels using the Scene Classification band.\n",
    "3. Implement the function to get the cloud score band from the CLOUD_SCORE_PLUS dataset.\n",
    "4. Implement the function to filter out cloudy pixels using the `qualityMosaic` function."
   ]
  },
  {
   "cell_type": "code",
   "execution_count": 75,
   "metadata": {},
   "outputs": [
    {
     "data": {
      "text/html": [
       "\n",
       "            <style>\n",
       "                .geemap-dark {\n",
       "                    --jp-widgets-color: white;\n",
       "                    --jp-widgets-label-color: white;\n",
       "                    --jp-ui-font-color1: white;\n",
       "                    --jp-layout-color2: #454545;\n",
       "                    background-color: #383838;\n",
       "                }\n",
       "\n",
       "                .geemap-dark .jupyter-button {\n",
       "                    --jp-layout-color3: #383838;\n",
       "                }\n",
       "\n",
       "                .geemap-colab {\n",
       "                    background-color: var(--colab-primary-surface-color, white);\n",
       "                }\n",
       "\n",
       "                .geemap-colab .jupyter-button {\n",
       "                    --jp-layout-color3: var(--colab-primary-surface-color, white);\n",
       "                }\n",
       "            </style>\n",
       "            "
      ],
      "text/plain": [
       "<IPython.core.display.HTML object>"
      ]
     },
     "metadata": {},
     "output_type": "display_data"
    }
   ],
   "source": [
    "# Use GEE to get the extend of Maui\n",
    "roi = ()\n",
    "\n",
    "\n",
    "def mask_clouds_sentinel2(image: ee.Image) -> ee.Image:\n",
    "    \"\"\"\n",
    "    Function to mask clouds using the Scene Classification Layer (SCL) in Sentinel-2 SR data.\n",
    "\n",
    "    See bands here: https://developers.google.com/earth-engine/datasets/catalog/COPERNICUS_S2_SR_HARMONIZED#bands\n",
    "    \"\"\"\n",
    "    # Use scene classification band\n",
    "    scl = image.select(\"SCL\")\n",
    "\n",
    "    # Only keep vegetation (4) or bare soil (5)\n",
    "\n",
    "    # Apply mask and normalize image\n",
    "    return image.updateMask(scl_mask).divide(10000)\n",
    "\n",
    "\n",
    "def get_cloud_score(roi: ee.Geometry, start_date: str, end_date: str) -> ee.Image:\n",
    "    \"\"\"\n",
    "    Return the cloud score image collection for the given date range and region of interest.\n",
    "\n",
    "    See: https://developers.google.com/earth-engine/datasets/catalog/GOOGLE_CLOUD_SCORE_PLUS_V1_S2_HARMONIZED\n",
    "\n",
    "    The cloud score is a value between 0 and 1, where 0 is not clear and 1 is clear.\n",
    "    \"\"\"\n",
    "    pass\n",
    "\n",
    "\n",
    "def get_quality_mosaic(roi: ee.Geometry, start_date: str, end_date: str) -> ee.Image:\n",
    "    \"\"\"\n",
    "    With the given date range, this function returns a mosaic image that is mostly\n",
    "    cloud-free and has the highest cloud score value.\n",
    "\n",
    "    The images are also masked for anything that is not vegetation or bare soil.\n",
    "    \"\"\"\n",
    "    cloud_score = get_cloud_score(roi, start_date, end_date)\n",
    "    return mask_clouds_sentinel2(\n",
    "        ee.ImageCollection(\"COPERNICUS/S2_SR_HARMONIZED\")\n",
    "        .filterBounds(roi)\n",
    "        .filterDate(start_date, end_date)\n",
    "        .linkCollection(cloud_score, \"cs\")  # Link cloud score to image collection\n",
    "        .qualityMosaic(\"cs\")  # Use cs to avoid clouds\n",
    "        .clip(roi)\n",
    "    )\n",
    "\n",
    "\n",
    "# Pre-fire and post-fire image collections for cloud-free mosaic images\n",
    "pre_fire = get_quality_mosaic(roi, \"2023-07-01\", \"2023-08-07\")\n",
    "post_fire = get_quality_mosaic(roi, \"2023-08-15\", \"2023-10-30\")"
   ]
  },
  {
   "cell_type": "markdown",
   "metadata": {},
   "source": [
    "The next cell will be used to show the resulting images for the pre- and post-fire periods."
   ]
  },
  {
   "cell_type": "code",
   "execution_count": 76,
   "metadata": {},
   "outputs": [
    {
     "data": {
      "text/html": [
       "\n",
       "            <style>\n",
       "                .geemap-dark {\n",
       "                    --jp-widgets-color: white;\n",
       "                    --jp-widgets-label-color: white;\n",
       "                    --jp-ui-font-color1: white;\n",
       "                    --jp-layout-color2: #454545;\n",
       "                    background-color: #383838;\n",
       "                }\n",
       "\n",
       "                .geemap-dark .jupyter-button {\n",
       "                    --jp-layout-color3: #383838;\n",
       "                }\n",
       "\n",
       "                .geemap-colab {\n",
       "                    background-color: var(--colab-primary-surface-color, white);\n",
       "                }\n",
       "\n",
       "                .geemap-colab .jupyter-button {\n",
       "                    --jp-layout-color3: var(--colab-primary-surface-color, white);\n",
       "                }\n",
       "            </style>\n",
       "            "
      ],
      "text/plain": [
       "<IPython.core.display.HTML object>"
      ]
     },
     "metadata": {},
     "output_type": "display_data"
    },
    {
     "data": {
      "application/vnd.jupyter.widget-view+json": {
       "model_id": "d17ac02faeef4ecaaf521596f7c7d5ee",
       "version_major": 2,
       "version_minor": 0
      },
      "text/plain": [
       "Map(center=[20.867841344178434, -156.61650489232312], controls=(WidgetControl(options=['position', 'transparen…"
      ]
     },
     "execution_count": 76,
     "metadata": {},
     "output_type": "execute_result"
    }
   ],
   "source": [
    "import geemap\n",
    "\n",
    "# Add layers to map for visualization\n",
    "Map = geemap.Map()\n",
    "\n",
    "# Center the map on the ROI\n",
    "Map.centerObject(roi, 9)\n",
    "\n",
    "# Store visualization parameters for RGB\n",
    "rgb_vis = {\"bands\": [\"B4\", \"B3\", \"B2\"], \"min\": 0, \"max\": 0.3}\n",
    "\n",
    "# Add pre- and post-fire layers\n",
    "Map.addLayer(pre_fire, rgb_vis, \"Pre-Fire Image\")\n",
    "Map.addLayer(post_fire, rgb_vis, \"Post-Fire Image\")\n",
    "\n",
    "# Display the map\n",
    "Map"
   ]
  },
  {
   "cell_type": "markdown",
   "metadata": {},
   "source": [
    "## Reflection\n",
    "\n",
    "Take a look through the two layers we added to the map. Do you notice the holes left by the cloud masking? Even so, the image quality looks much better than the previous project. The next step is to calculate the NBR index for the pre- and post-fire images.\n",
    "\n",
    "### Calculate the NBR Index\n",
    "\n",
    "Using the pre- and post-fire images, we will calculate the NBR index for each image. The NBR index is calculated using the Near-Infrared (NIR) and Shortwave Infrared (SWIR2) bands of the Sentinel-2 data.\n",
    "\n",
    "Using the NBR index, we can calculate the delta NBR (dNBR) index, which is the difference between the pre-fire NBR and the post-fire NBR. The dNBR index is used to quantify burn severity.\n",
    "\n",
    "### Instructions\n",
    "\n",
    "1. Implement the function to calculate the NBR index using the Near-Infrared (NIR) and Shortwave Infrared (SWIR2) bands.\n",
    "2. Calculate the delta NBR (dNBR) index using the pre- and post-fire NBR indices.\n",
    "3. Mask low-burn severity areas by excluding values that fall below a 0.1 threshold."
   ]
  },
  {
   "cell_type": "code",
   "execution_count": 77,
   "metadata": {},
   "outputs": [
    {
     "data": {
      "text/html": [
       "\n",
       "            <style>\n",
       "                .geemap-dark {\n",
       "                    --jp-widgets-color: white;\n",
       "                    --jp-widgets-label-color: white;\n",
       "                    --jp-ui-font-color1: white;\n",
       "                    --jp-layout-color2: #454545;\n",
       "                    background-color: #383838;\n",
       "                }\n",
       "\n",
       "                .geemap-dark .jupyter-button {\n",
       "                    --jp-layout-color3: #383838;\n",
       "                }\n",
       "\n",
       "                .geemap-colab {\n",
       "                    background-color: var(--colab-primary-surface-color, white);\n",
       "                }\n",
       "\n",
       "                .geemap-colab .jupyter-button {\n",
       "                    --jp-layout-color3: var(--colab-primary-surface-color, white);\n",
       "                }\n",
       "            </style>\n",
       "            "
      ],
      "text/plain": [
       "<IPython.core.display.HTML object>"
      ]
     },
     "metadata": {},
     "output_type": "display_data"
    }
   ],
   "source": [
    "def calculate_nbr(image: ee.Image) -> ee.Image:\n",
    "    \"\"\"\n",
    "    Function to calculate the Normalized Burn Ratio (NBR) using Sentinel-2 bands.\n",
    "    NBR = (B8 - B12) / (B8 + B12)\n",
    "    \"\"\"\n",
    "\n",
    "    return image\n",
    "\n",
    "\n",
    "# Calculate NBR for pre- and post-fire images\n",
    "pre_nbr = calculate_nbr(pre_fire)\n",
    "post_nbr = calculate_nbr(post_fire)\n",
    "\n",
    "# Calculate Delta NBR (dNBR)\n",
    "\n",
    "# Mask low-burn severity areas using a threshold of 0.1"
   ]
  },
  {
   "cell_type": "markdown",
   "metadata": {},
   "source": [
    "Use the next cell to visualize the dNBR reesults."
   ]
  },
  {
   "cell_type": "code",
   "execution_count": 78,
   "metadata": {},
   "outputs": [
    {
     "data": {
      "text/html": [
       "\n",
       "            <style>\n",
       "                .geemap-dark {\n",
       "                    --jp-widgets-color: white;\n",
       "                    --jp-widgets-label-color: white;\n",
       "                    --jp-ui-font-color1: white;\n",
       "                    --jp-layout-color2: #454545;\n",
       "                    background-color: #383838;\n",
       "                }\n",
       "\n",
       "                .geemap-dark .jupyter-button {\n",
       "                    --jp-layout-color3: #383838;\n",
       "                }\n",
       "\n",
       "                .geemap-colab {\n",
       "                    background-color: var(--colab-primary-surface-color, white);\n",
       "                }\n",
       "\n",
       "                .geemap-colab .jupyter-button {\n",
       "                    --jp-layout-color3: var(--colab-primary-surface-color, white);\n",
       "                }\n",
       "            </style>\n",
       "            "
      ],
      "text/plain": [
       "<IPython.core.display.HTML object>"
      ]
     },
     "metadata": {},
     "output_type": "display_data"
    },
    {
     "data": {
      "application/vnd.jupyter.widget-view+json": {
       "model_id": "d17ac02faeef4ecaaf521596f7c7d5ee",
       "version_major": 2,
       "version_minor": 0
      },
      "text/plain": [
       "Map(center=[20.867841344178434, -156.61650489232312], controls=(WidgetControl(options=['position', 'transparen…"
      ]
     },
     "execution_count": 78,
     "metadata": {},
     "output_type": "execute_result"
    }
   ],
   "source": [
    "dnbr_vis = {\n",
    "    \"min\": 0,\n",
    "    \"max\": 1,\n",
    "    \"palette\": [\"white\", \"pink\", \"red\", \"darkred\", \"black\"],\n",
    "}  # Burn severity palette\n",
    "\n",
    "# Add dNBR layer\n",
    "Map.addLayer(dnbr, dnbr_vis, \"Delta NBR (Burn Severity)\")\n",
    "\n",
    "# Display the map\n",
    "Map"
   ]
  },
  {
   "cell_type": "markdown",
   "metadata": {},
   "source": [
    "## Reflection\n",
    "\n",
    "Take a look at the dNBR image. The dNBR index is used to quantify burn severity, with higher values indicating higher burn severity. However, dNBR values can also be influenced by factors such as natural vegetation variability. [Take a look at the real locations of the fires.](https://en.wikipedia.org/wiki/2023_Hawaii_wildfires#/map/1)\n",
    "\n",
    "Fortunately, the dNBR index captured the burned areas. In a future project, we will continue to refine the analysis to better classify areas affected by the fire and exclude areas with natural vegetation variability."
   ]
  }
 ],
 "metadata": {
  "kernelspec": {
   "display_name": "Python 3",
   "language": "python",
   "name": "python3"
  },
  "language_info": {
   "codemirror_mode": {
    "name": "ipython",
    "version": 3
   },
   "file_extension": ".py",
   "mimetype": "text/x-python",
   "name": "python",
   "nbconvert_exporter": "python",
   "pygments_lexer": "ipython3",
   "version": "3.11.4"
  }
 },
 "nbformat": 4,
 "nbformat_minor": 2
}
